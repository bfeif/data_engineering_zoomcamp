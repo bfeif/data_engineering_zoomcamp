{
 "cells": [
  {
   "cell_type": "markdown",
   "metadata": {},
   "source": [
    "## 0. Load"
   ]
  },
  {
   "cell_type": "code",
   "execution_count": 57,
   "metadata": {},
   "outputs": [
    {
     "data": {
      "text/plain": [
       "polars.config.Config"
      ]
     },
     "execution_count": 57,
     "metadata": {},
     "output_type": "execute_result"
    }
   ],
   "source": [
    "import datetime as dt\n",
    "import polars as pl\n",
    "pl.Config.set_fmt_str_lengths(100)"
   ]
  },
  {
   "cell_type": "code",
   "execution_count": 79,
   "metadata": {},
   "outputs": [
    {
     "data": {
      "text/html": [
       "<div><style>\n",
       ".dataframe > thead > tr,\n",
       ".dataframe > tbody > tr {\n",
       "  text-align: right;\n",
       "  white-space: pre-wrap;\n",
       "}\n",
       "</style>\n",
       "<small>shape: (3, 4)</small><table border=\"1\" class=\"dataframe\"><thead><tr><th>LocationID</th><th>Borough</th><th>Zone</th><th>service_zone</th></tr><tr><td>i64</td><td>str</td><td>str</td><td>str</td></tr></thead><tbody><tr><td>1</td><td>&quot;EWR&quot;</td><td>&quot;Newark Airport&quot;</td><td>&quot;EWR&quot;</td></tr><tr><td>2</td><td>&quot;Queens&quot;</td><td>&quot;Jamaica Bay&quot;</td><td>&quot;Boro Zone&quot;</td></tr><tr><td>3</td><td>&quot;Bronx&quot;</td><td>&quot;Allerton/Pelham Gardens&quot;</td><td>&quot;Boro Zone&quot;</td></tr></tbody></table></div>"
      ],
      "text/plain": [
       "shape: (3, 4)\n",
       "┌────────────┬─────────┬─────────────────────────┬──────────────┐\n",
       "│ LocationID ┆ Borough ┆ Zone                    ┆ service_zone │\n",
       "│ ---        ┆ ---     ┆ ---                     ┆ ---          │\n",
       "│ i64        ┆ str     ┆ str                     ┆ str          │\n",
       "╞════════════╪═════════╪═════════════════════════╪══════════════╡\n",
       "│ 1          ┆ EWR     ┆ Newark Airport          ┆ EWR          │\n",
       "│ 2          ┆ Queens  ┆ Jamaica Bay             ┆ Boro Zone    │\n",
       "│ 3          ┆ Bronx   ┆ Allerton/Pelham Gardens ┆ Boro Zone    │\n",
       "└────────────┴─────────┴─────────────────────────┴──────────────┘"
      ]
     },
     "metadata": {},
     "output_type": "display_data"
    }
   ],
   "source": [
    "zones_df = (\n",
    "  pl.scan_csv(\"taxi+_zone_lookup.csv\")\n",
    ")\n",
    "display(zones_df.collect().head(3))"
   ]
  },
  {
   "cell_type": "code",
   "execution_count": 52,
   "metadata": {},
   "outputs": [],
   "source": [
    "taxi_trip_df = (\n",
    "  pl.scan_csv(\"green_tripdata_2019-09.csv\")\n",
    "  .with_columns([\n",
    "    pl.col([\"lpep_pickup_datetime\", \"lpep_dropoff_datetime\"]).str.to_datetime(),\n",
    "    # pl.col(\"lpep_pickup_datetime\").dt.date().alias(\"lpep_pickup_date\")\n",
    "  ])\n",
    ")"
   ]
  },
  {
   "cell_type": "markdown",
   "metadata": {},
   "source": [
    "## 1. Questions"
   ]
  },
  {
   "cell_type": "code",
   "execution_count": 53,
   "metadata": {},
   "outputs": [
    {
     "data": {
      "text/html": [
       "<div><style>\n",
       ".dataframe > thead > tr,\n",
       ".dataframe > tbody > tr {\n",
       "  text-align: right;\n",
       "  white-space: pre-wrap;\n",
       "}\n",
       "</style>\n",
       "<small>shape: (1, 20)</small><table border=\"1\" class=\"dataframe\"><thead><tr><th>VendorID</th><th>lpep_pickup_datetime</th><th>lpep_dropoff_datetime</th><th>store_and_fwd_flag</th><th>RatecodeID</th><th>PULocationID</th><th>DOLocationID</th><th>passenger_count</th><th>trip_distance</th><th>fare_amount</th><th>extra</th><th>mta_tax</th><th>tip_amount</th><th>tolls_amount</th><th>ehail_fee</th><th>improvement_surcharge</th><th>total_amount</th><th>payment_type</th><th>trip_type</th><th>congestion_surcharge</th></tr><tr><td>i64</td><td>datetime[μs]</td><td>datetime[μs]</td><td>str</td><td>i64</td><td>i64</td><td>i64</td><td>i64</td><td>f64</td><td>f64</td><td>f64</td><td>f64</td><td>f64</td><td>f64</td><td>str</td><td>f64</td><td>f64</td><td>i64</td><td>i64</td><td>f64</td></tr></thead><tbody><tr><td>2</td><td>2019-09-01 00:10:53</td><td>2019-09-01 00:23:46</td><td>&quot;N&quot;</td><td>1</td><td>65</td><td>189</td><td>5</td><td>2.0</td><td>10.5</td><td>0.5</td><td>0.5</td><td>2.36</td><td>0.0</td><td>null</td><td>0.3</td><td>14.16</td><td>1</td><td>1</td><td>0.0</td></tr></tbody></table></div>"
      ],
      "text/plain": [
       "shape: (1, 20)\n",
       "┌──────────┬───────────┬───────────┬───────────┬───┬───────────┬───────────┬───────────┬───────────┐\n",
       "│ VendorID ┆ lpep_pick ┆ lpep_drop ┆ store_and ┆ … ┆ total_amo ┆ payment_t ┆ trip_type ┆ congestio │\n",
       "│ ---      ┆ up_dateti ┆ off_datet ┆ _fwd_flag ┆   ┆ unt       ┆ ype       ┆ ---       ┆ n_surchar │\n",
       "│ i64      ┆ me        ┆ ime       ┆ ---       ┆   ┆ ---       ┆ ---       ┆ i64       ┆ ge        │\n",
       "│          ┆ ---       ┆ ---       ┆ str       ┆   ┆ f64       ┆ i64       ┆           ┆ ---       │\n",
       "│          ┆ datetime[ ┆ datetime[ ┆           ┆   ┆           ┆           ┆           ┆ f64       │\n",
       "│          ┆ μs]       ┆ μs]       ┆           ┆   ┆           ┆           ┆           ┆           │\n",
       "╞══════════╪═══════════╪═══════════╪═══════════╪═══╪═══════════╪═══════════╪═══════════╪═══════════╡\n",
       "│ 2        ┆ 2019-09-0 ┆ 2019-09-0 ┆ N         ┆ … ┆ 14.16     ┆ 1         ┆ 1         ┆ 0.0       │\n",
       "│          ┆ 1         ┆ 1         ┆           ┆   ┆           ┆           ┆           ┆           │\n",
       "│          ┆ 00:10:53  ┆ 00:23:46  ┆           ┆   ┆           ┆           ┆           ┆           │\n",
       "└──────────┴───────────┴───────────┴───────────┴───┴───────────┴───────────┴───────────┴───────────┘"
      ]
     },
     "execution_count": 53,
     "metadata": {},
     "output_type": "execute_result"
    }
   ],
   "source": [
    "taxi_trip_df.first().collect()"
   ]
  },
  {
   "cell_type": "code",
   "execution_count": 54,
   "metadata": {},
   "outputs": [
    {
     "data": {
      "text/html": [
       "<div><style>\n",
       ".dataframe > thead > tr,\n",
       ".dataframe > tbody > tr {\n",
       "  text-align: right;\n",
       "  white-space: pre-wrap;\n",
       "}\n",
       "</style>\n",
       "<small>shape: (1, 20)</small><table border=\"1\" class=\"dataframe\"><thead><tr><th>VendorID</th><th>lpep_pickup_datetime</th><th>lpep_dropoff_datetime</th><th>store_and_fwd_flag</th><th>RatecodeID</th><th>PULocationID</th><th>DOLocationID</th><th>passenger_count</th><th>trip_distance</th><th>fare_amount</th><th>extra</th><th>mta_tax</th><th>tip_amount</th><th>tolls_amount</th><th>ehail_fee</th><th>improvement_surcharge</th><th>total_amount</th><th>payment_type</th><th>trip_type</th><th>congestion_surcharge</th></tr><tr><td>u32</td><td>u32</td><td>u32</td><td>u32</td><td>u32</td><td>u32</td><td>u32</td><td>u32</td><td>u32</td><td>u32</td><td>u32</td><td>u32</td><td>u32</td><td>u32</td><td>u32</td><td>u32</td><td>u32</td><td>u32</td><td>u32</td><td>u32</td></tr></thead><tbody><tr><td>59143</td><td>0</td><td>0</td><td>59143</td><td>59143</td><td>0</td><td>0</td><td>59143</td><td>0</td><td>0</td><td>0</td><td>0</td><td>0</td><td>0</td><td>449063</td><td>0</td><td>0</td><td>59143</td><td>59143</td><td>59143</td></tr></tbody></table></div>"
      ],
      "text/plain": [
       "shape: (1, 20)\n",
       "┌──────────┬───────────┬───────────┬───────────┬───┬───────────┬───────────┬───────────┬───────────┐\n",
       "│ VendorID ┆ lpep_pick ┆ lpep_drop ┆ store_and ┆ … ┆ total_amo ┆ payment_t ┆ trip_type ┆ congestio │\n",
       "│ ---      ┆ up_dateti ┆ off_datet ┆ _fwd_flag ┆   ┆ unt       ┆ ype       ┆ ---       ┆ n_surchar │\n",
       "│ u32      ┆ me        ┆ ime       ┆ ---       ┆   ┆ ---       ┆ ---       ┆ u32       ┆ ge        │\n",
       "│          ┆ ---       ┆ ---       ┆ u32       ┆   ┆ u32       ┆ u32       ┆           ┆ ---       │\n",
       "│          ┆ u32       ┆ u32       ┆           ┆   ┆           ┆           ┆           ┆ u32       │\n",
       "╞══════════╪═══════════╪═══════════╪═══════════╪═══╪═══════════╪═══════════╪═══════════╪═══════════╡\n",
       "│ 59143    ┆ 0         ┆ 0         ┆ 59143     ┆ … ┆ 0         ┆ 59143     ┆ 59143     ┆ 59143     │\n",
       "└──────────┴───────────┴───────────┴───────────┴───┴───────────┴───────────┴───────────┴───────────┘"
      ]
     },
     "execution_count": 54,
     "metadata": {},
     "output_type": "execute_result"
    }
   ],
   "source": [
    "taxi_trip_df.null_count().collect()"
   ]
  },
  {
   "cell_type": "code",
   "execution_count": 55,
   "metadata": {},
   "outputs": [
    {
     "data": {
      "text/html": [
       "<div><style>\n",
       ".dataframe > thead > tr,\n",
       ".dataframe > tbody > tr {\n",
       "  text-align: right;\n",
       "  white-space: pre-wrap;\n",
       "}\n",
       "</style>\n",
       "<small>shape: (1, 1)</small><table border=\"1\" class=\"dataframe\"><thead><tr><th>n_rows</th></tr><tr><td>u32</td></tr></thead><tbody><tr><td>15612</td></tr></tbody></table></div>"
      ],
      "text/plain": [
       "shape: (1, 1)\n",
       "┌────────┐\n",
       "│ n_rows │\n",
       "│ ---    │\n",
       "│ u32    │\n",
       "╞════════╡\n",
       "│ 15612  │\n",
       "└────────┘"
      ]
     },
     "execution_count": 55,
     "metadata": {},
     "output_type": "execute_result"
    }
   ],
   "source": [
    "## Question 3\n",
    "date_filter = dt.date(2019, 9, 18)\n",
    "(\n",
    "  taxi_trip_df\n",
    "  .filter(\n",
    "    (pl.col(\"lpep_pickup_datetime\").dt.date() == date_filter) &\n",
    "    (pl.col(\"lpep_dropoff_datetime\").dt.date() == date_filter)\n",
    "  )\n",
    "  .select([\n",
    "    pl.col(\"lpep_dropoff_datetime\").count().alias('n_rows'),\n",
    "  ])\n",
    "  .collect()\n",
    ")"
   ]
  },
  {
   "cell_type": "code",
   "execution_count": 56,
   "metadata": {},
   "outputs": [
    {
     "data": {
      "text/html": [
       "<div><style>\n",
       ".dataframe > thead > tr,\n",
       ".dataframe > tbody > tr {\n",
       "  text-align: right;\n",
       "  white-space: pre-wrap;\n",
       "}\n",
       "</style>\n",
       "<small>shape: (10, 2)</small><table border=\"1\" class=\"dataframe\"><thead><tr><th>lpep_pickup_date</th><th>largest_trip_distance</th></tr><tr><td>date</td><td>f64</td></tr></thead><tbody><tr><td>2019-09-26</td><td>341.64</td></tr><tr><td>2019-09-21</td><td>135.53</td></tr><tr><td>2019-09-16</td><td>114.3</td></tr><tr><td>2019-09-28</td><td>89.64</td></tr><tr><td>2019-09-24</td><td>82.12</td></tr><tr><td>2019-09-18</td><td>70.28</td></tr><tr><td>2019-09-10</td><td>69.67</td></tr><tr><td>2019-09-27</td><td>68.41</td></tr><tr><td>2019-09-02</td><td>61.69</td></tr><tr><td>2019-09-19</td><td>61.26</td></tr></tbody></table></div>"
      ],
      "text/plain": [
       "shape: (10, 2)\n",
       "┌──────────────────┬───────────────────────┐\n",
       "│ lpep_pickup_date ┆ largest_trip_distance │\n",
       "│ ---              ┆ ---                   │\n",
       "│ date             ┆ f64                   │\n",
       "╞══════════════════╪═══════════════════════╡\n",
       "│ 2019-09-26       ┆ 341.64                │\n",
       "│ 2019-09-21       ┆ 135.53                │\n",
       "│ 2019-09-16       ┆ 114.3                 │\n",
       "│ 2019-09-28       ┆ 89.64                 │\n",
       "│ 2019-09-24       ┆ 82.12                 │\n",
       "│ 2019-09-18       ┆ 70.28                 │\n",
       "│ 2019-09-10       ┆ 69.67                 │\n",
       "│ 2019-09-27       ┆ 68.41                 │\n",
       "│ 2019-09-02       ┆ 61.69                 │\n",
       "│ 2019-09-19       ┆ 61.26                 │\n",
       "└──────────────────┴───────────────────────┘"
      ]
     },
     "execution_count": 56,
     "metadata": {},
     "output_type": "execute_result"
    }
   ],
   "source": [
    "## Question 4\n",
    "(\n",
    "  taxi_trip_df\n",
    "  .with_columns([pl.col(\"lpep_pickup_datetime\").dt.date().alias(\"lpep_pickup_date\")])\n",
    "  .group_by(\"lpep_pickup_date\")\n",
    "  .agg(pl.col(\"trip_distance\").max().alias(\"largest_trip_distance\"))\n",
    "  .sort(by=[\"largest_trip_distance\"], descending=True)\n",
    "  .collect()\n",
    "  .head(10)\n",
    ")"
   ]
  },
  {
   "cell_type": "code",
   "execution_count": 77,
   "metadata": {},
   "outputs": [
    {
     "data": {
      "text/html": [
       "<div><style>\n",
       ".dataframe > thead > tr,\n",
       ".dataframe > tbody > tr {\n",
       "  text-align: right;\n",
       "  white-space: pre-wrap;\n",
       "}\n",
       "</style>\n",
       "<small>shape: (7, 2)</small><table border=\"1\" class=\"dataframe\"><thead><tr><th>Borough</th><th>borough_total_amount</th></tr><tr><td>str</td><td>f64</td></tr></thead><tbody><tr><td>&quot;Brooklyn&quot;</td><td>96333.24</td></tr><tr><td>&quot;Manhattan&quot;</td><td>92271.3</td></tr><tr><td>&quot;Queens&quot;</td><td>78671.71</td></tr><tr><td>&quot;Bronx&quot;</td><td>32830.09</td></tr><tr><td>&quot;Unknown&quot;</td><td>728.75</td></tr><tr><td>&quot;Staten Island&quot;</td><td>342.59</td></tr><tr><td>&quot;EWR&quot;</td><td>0.0</td></tr></tbody></table></div>"
      ],
      "text/plain": [
       "shape: (7, 2)\n",
       "┌───────────────┬──────────────────────┐\n",
       "│ Borough       ┆ borough_total_amount │\n",
       "│ ---           ┆ ---                  │\n",
       "│ str           ┆ f64                  │\n",
       "╞═══════════════╪══════════════════════╡\n",
       "│ Brooklyn      ┆ 96333.24             │\n",
       "│ Manhattan     ┆ 92271.3              │\n",
       "│ Queens        ┆ 78671.71             │\n",
       "│ Bronx         ┆ 32830.09             │\n",
       "│ Unknown       ┆ 728.75               │\n",
       "│ Staten Island ┆ 342.59               │\n",
       "│ EWR           ┆ 0.0                  │\n",
       "└───────────────┴──────────────────────┘"
      ]
     },
     "execution_count": 77,
     "metadata": {},
     "output_type": "execute_result"
    }
   ],
   "source": [
    "## Question 5\n",
    "(\n",
    "  taxi_trip_df\n",
    "  .filter(\n",
    "    (pl.col(\"lpep_pickup_datetime\").dt.date() == dt.date(2019, 9, 18))\n",
    "  )\n",
    "  .join(\n",
    "    zones_df,\n",
    "    left_on=\"PULocationID\",\n",
    "    right_on=\"LocationID\",\n",
    "    how=\"outer\"\n",
    "  )\n",
    "  .group_by(\"Borough\")\n",
    "  .agg(pl.col(\"total_amount\").sum().alias(\"borough_total_amount\"))\n",
    "  .sort(by=[\"borough_total_amount\"], descending=True)\n",
    "  .collect()\n",
    ")"
   ]
  },
  {
   "cell_type": "code",
   "execution_count": 88,
   "metadata": {},
   "outputs": [
    {
     "data": {
      "text/html": [
       "<div><style>\n",
       ".dataframe > thead > tr,\n",
       ".dataframe > tbody > tr {\n",
       "  text-align: right;\n",
       "  white-space: pre-wrap;\n",
       "}\n",
       "</style>\n",
       "<small>shape: (5, 2)</small><table border=\"1\" class=\"dataframe\"><thead><tr><th>Zone_dropoff</th><th>max_tip_amount</th></tr><tr><td>str</td><td>f64</td></tr></thead><tbody><tr><td>&quot;JFK Airport&quot;</td><td>62.31</td></tr><tr><td>&quot;Woodside&quot;</td><td>30.0</td></tr><tr><td>&quot;Kips Bay&quot;</td><td>28.0</td></tr><tr><td>&quot;NV&quot;</td><td>25.0</td></tr><tr><td>&quot;Astoria&quot;</td><td>20.0</td></tr></tbody></table></div>"
      ],
      "text/plain": [
       "shape: (5, 2)\n",
       "┌──────────────┬────────────────┐\n",
       "│ Zone_dropoff ┆ max_tip_amount │\n",
       "│ ---          ┆ ---            │\n",
       "│ str          ┆ f64            │\n",
       "╞══════════════╪════════════════╡\n",
       "│ JFK Airport  ┆ 62.31          │\n",
       "│ Woodside     ┆ 30.0           │\n",
       "│ Kips Bay     ┆ 28.0           │\n",
       "│ NV           ┆ 25.0           │\n",
       "│ Astoria      ┆ 20.0           │\n",
       "└──────────────┴────────────────┘"
      ]
     },
     "execution_count": 88,
     "metadata": {},
     "output_type": "execute_result"
    }
   ],
   "source": [
    "## Question 6\n",
    "(\n",
    "  taxi_trip_df\n",
    "  .join(\n",
    "    zones_df,\n",
    "    left_on=\"PULocationID\",\n",
    "    right_on=\"LocationID\",\n",
    "    how=\"left\"\n",
    "  )\n",
    "  .join(\n",
    "    zones_df,\n",
    "    left_on=\"DOLocationID\",\n",
    "    right_on=\"LocationID\",\n",
    "    how=\"left\",\n",
    "    suffix=\"_dropoff\"\n",
    "  )\n",
    "  .filter(pl.col(\"Zone\") == \"Astoria\")\n",
    "  # .first().collect()\n",
    "  .group_by(\"Zone_dropoff\")\n",
    "  .agg(pl.col(\"tip_amount\").max().alias(\"max_tip_amount\"))\n",
    "  .sort(by=[\"max_tip_amount\"], descending=True)\n",
    "  .collect()\n",
    "  .head()\n",
    ")"
   ]
  },
  {
   "cell_type": "code",
   "execution_count": null,
   "metadata": {},
   "outputs": [],
   "source": []
  }
 ],
 "metadata": {
  "kernelspec": {
   "display_name": ".venv",
   "language": "python",
   "name": "python3"
  },
  "language_info": {
   "codemirror_mode": {
    "name": "ipython",
    "version": 3
   },
   "file_extension": ".py",
   "mimetype": "text/x-python",
   "name": "python",
   "nbconvert_exporter": "python",
   "pygments_lexer": "ipython3",
   "version": "3.11.6"
  }
 },
 "nbformat": 4,
 "nbformat_minor": 2
}
